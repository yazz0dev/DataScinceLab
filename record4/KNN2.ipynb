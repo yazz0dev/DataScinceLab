{
 "cells": [
  {
   "cell_type": "code",
   "execution_count": 9,
   "id": "f1e41961",
   "metadata": {},
   "outputs": [
    {
     "name": "stdout",
     "output_type": "stream",
     "text": [
      "Accuracy (CSV iris) with k=3: 1.00\n"
     ]
    }
   ],
   "source": [
    "import pandas as pd\n",
    "\n",
    "import numpy as np\n",
    "\n",
    "from sklearn.model_selection import train_test_split\n",
    "\n",
    "from sklearn.neighbors import KNeighborsClassifier\n",
    "\n",
    "from sklearn.metrics import accuracy_score\n",
    "\n",
    "#Load from CSV\n",
    "df = pd.read_csv(\"Iris.csv\")\n",
    "\n",
    "# change\n",
    "pathX = df.iloc[:, :-1].values\n",
    "\n",
    "# All columns except last → Features\n",
    "X = df.iloc[:, :-1].values\n",
    "y = df.iloc[:, -1].values\n",
    "\n",
    "# Last column only → Target\n",
    "\n",
    "# Train-test split\n",
    "X_train, X_test, y_train, y_test = train_test_split(X, y,\n",
    "test_size=0.2, random_state=42)\n",
    "\n",
    "# KNN model\n",
    "k = 3\n",
    "knn = KNeighborsClassifier(n_neighbors=k)\n",
    "knn.fit(X_train, y_train)\n",
    "\n",
    "# Predictions & accuracy\n",
    "y_pred = knn.predict(X_test)\n",
    "accuracy = accuracy_score(y_test, y_pred)\n",
    "\n",
    "print(f\"Accuracy (CSV iris) with k={k}: {accuracy:.2f}\")\n",
    "\n"
   ]
  },
  {
   "cell_type": "code",
   "execution_count": 3,
   "id": "87808058",
   "metadata": {},
   "outputs": [
    {
     "data": {
      "image/png": "[encoded data removed]",
      "text/plain": [
       "<Figure size 640x480 with 2 Axes>"
      ]
     },
     "metadata": {},
     "output_type": "display_data"
    }
   ],
   "source": [
    "import matplotlib.pyplot as plt\n",
    "import numpy\n",
    "from sklearn import metrics\n",
    "\n",
    "actual = numpy.random.binomial(1,.9,size = 1000)\n",
    "predicted = numpy.random.binomial(1,.9,size = 1000)\n",
    "\n",
    "confusion_matrix = metrics.confusion_matrix(actual, predicted)\n",
    "\n",
    "cm_display = metrics.ConfusionMatrixDisplay(confusion_matrix = confusion_matrix, display_labels = [0, 1])\n",
    "\n",
    "cm_display.plot()\n",
    "plt.show()"
   ]
  },
  {
   "cell_type": "code",
   "execution_count": 9,
   "id": "681e1686",
   "metadata": {},
   "outputs": [
    {
     "name": "stdout",
     "output_type": "stream",
     "text": [
      "Data to predict: ['Sunny', 'Cool', 'High', 'Strong']\n",
      "Encoded data: [2. 0. 0. 0.]\n",
      "Prediction: Play Tennis? -> No\n",
      "Probabilities (No, Yes): [0.77425134 0.22574866]\n"
     ]
    }
   ],
   "source": [
    "import numpy as np\n",
    "from sklearn.naive_bayes import CategoricalNB\n",
    "from sklearn.preprocessing import OrdinalEncoder\n",
    "\n",
    "# Same data as before\n",
    "# Features: [Outlook, Temperature, Humidity, Wind]\n",
    "X_train_text = [\n",
    "    ['Sunny', 'Hot', 'High', 'Weak'], ['Sunny', 'Hot', 'High', 'Strong'],\n",
    "    ['Overcast', 'Hot', 'High', 'Weak'], ['Rain', 'Mild', 'High', 'Weak'],\n",
    "    ['Rain', 'Cool', 'Normal', 'Weak'], ['Rain', 'Cool', 'Normal', 'Strong'],\n",
    "    ['Overcast', 'Cool', 'Normal', 'Strong'], ['Sunny', 'Mild', 'High', 'Weak'],\n",
    "    ['Sunny', 'Cool', 'Normal', 'Weak'], ['Rain', 'Mild', 'Normal', 'Weak'],\n",
    "    ['Sunny', 'Mild', 'Normal', 'Strong'], ['Overcast', 'Mild', 'High', 'Weak'],\n",
    "    ['Overcast', 'Hot', 'Normal', 'Weak'], ['Rain', 'Mild', 'High', 'Strong']\n",
    "]\n",
    "y_train = ['No', 'No', 'Yes', 'Yes', 'Yes', 'No', 'Yes', 'No', 'Yes', 'Yes', 'Yes', 'Yes', 'Yes', 'No']\n",
    "\n",
    "# --- Step 1: Encode the categorical features into numbers ---\n",
    "encoder = OrdinalEncoder()\n",
    "X_train_encoded = encoder.fit_transform(X_train_text)\n",
    "\n",
    "# --- Step 2: Create and train the CategoricalNB model ---\n",
    "# alpha=1.0 is for Laplace smoothing, just like we did from scratch.\n",
    "model = CategoricalNB(alpha=1.0)\n",
    "model.fit(X_train_encoded, y_train)\n",
    "\n",
    "# --- Step 3: Make a prediction ---\n",
    "# New data to predict\n",
    "X_test_text = [['Sunny', 'Cool', 'High', 'Strong']]\n",
    "\n",
    "# IMPORTANT: You must use the SAME encoder that was fit on the training data\n",
    "X_test_encoded = encoder.transform(X_test_text)\n",
    "\n",
    "# Predict the label\n",
    "prediction = model.predict(X_test_encoded)\n",
    "# Predict the probability of each class\n",
    "probabilities = model.predict_proba(X_test_encoded)\n",
    "\n",
    "print(f\"Data to predict: {X_test_text[0]}\")\n",
    "print(f\"Encoded data: {X_test_encoded[0]}\")\n",
    "print(f\"Prediction: Play Tennis? -> {prediction[0]}\")\n",
    "print(f\"Probabilities (No, Yes): {probabilities[0]}\")"
   ]
  }
 ],
 "metadata": {
  "kernelspec": {
   "display_name": "base",
   "language": "python",
   "name": "python3"
  },
  "language_info": {
   "codemirror_mode": {
    "name": "ipython",
    "version": 3
   },
   "file_extension": ".py",
   "mimetype": "text/x-python",
   "name": "python",
   "nbconvert_exporter": "python",
   "pygments_lexer": "ipython3",
   "version": "3.11.9"
  }
 },
 "nbformat": 4,
 "nbformat_minor": 5
}
